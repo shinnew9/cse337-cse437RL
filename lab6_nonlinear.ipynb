{
  "nbformat": 4,
  "nbformat_minor": 0,
  "metadata": {
    "colab": {
      "provenance": [],
      "include_colab_link": true
    },
    "kernelspec": {
      "name": "python3",
      "display_name": "Python 3"
    },
    "language_info": {
      "name": "python"
    }
  },
  "cells": [
    {
      "cell_type": "markdown",
      "metadata": {
        "id": "view-in-github",
        "colab_type": "text"
      },
      "source": [
        "<a href=\"https://colab.research.google.com/github/shinnew9/cse347-cse447RL/blob/main/lab6_nonlinear.ipynb\" target=\"_parent\"><img src=\"https://colab.research.google.com/assets/colab-badge.svg\" alt=\"Open In Colab\"/></a>"
      ]
    },
    {
      "cell_type": "markdown",
      "source": [
        "# Lab 6: Non-linear function approximation\n",
        "\n",
        "## Exercise 1: Q-Learning with a Neural Network (PyTorch) on MountainCar\n",
        "\n",
        "**Objective:**\n",
        "Implement **Q-learning** with a **PyTorch neural network** to solve `MountainCar-v0`. You will approximate Q(s, a) with a small MLP, train it from batches of transitions sampled from a replay buffer, and evaluate the learned policy.\n",
        "\n",
        "---\n",
        "\n",
        "## Environment\n",
        "- **Gym** environment: `MountainCar-v0`\n",
        "- **State**: continuous (position, velocity) → shape `(2,)`\n",
        "- **Actions**: {0: left, 1: no push, 2: right}\n",
        "- **Reward**: -1 per step until the goal (`position >= 0.5`)\n",
        "- **Episode limit**: 500 steps\n",
        "- **Goal**: reduce steps-to-goal and improve return over training\n",
        "\n",
        "---\n",
        "\n",
        "## What You Must Implement\n",
        "\n",
        "### 1) Q-Network (PyTorch)\n",
        "Create a small MLP `QNetwork` that maps `state -> Q-values for 3 actions`.\n",
        "- Inputs: `(batch_size, 2)` float32\n",
        "- Outputs: `(batch_size, 3)` Q-values\n",
        "- Suggested architecture: `2 → 64 → 3` with ReLU\n",
        "- Initialize weights reasonably (PyTorch defaults are fine)\n",
        "\n",
        "### 2) Replay Buffer\n",
        "A cyclic buffer to store transitions `(s, a, r, s_next, done)`:\n",
        "- `append(s, a, r, s_next, done)`\n",
        "- `sample(batch_size)` → tensors ready for PyTorch (float32 for states, int64 for actions, float32 for rewards/done)\n",
        "\n",
        "### 3) ε-Greedy Policy\n",
        "- With probability `epsilon`: pick a random action\n",
        "- Otherwise: `argmax_a Q(s, a)` from the current network\n",
        "- Use **decaying ε** (e.g., from 1.0 down to 0.05 over ~20–50k steps)\n",
        "\n",
        "### 4) Q-Learning Target and Loss\n",
        "For a sampled batch:\n",
        "- Compute `q_pred = Q(s).gather(1, a)`  (shape `(batch, 1)`)\n",
        "- Compute target:\n",
        "  - If `done`: `target = r`\n",
        "  - Else: `target = r + gamma * max_a' Q(s_next, a').detach()`\n",
        "- Loss: Mean Squared Error (MSE) between `q_pred` and `target`\n",
        "\n",
        "> **Stabilization (recommended)**: Use a **target network** `Q_target` (periodically copy weights from `Q_online`) to compute the max over next-state actions. Update every `target_update_freq` steps.\n",
        "\n",
        "### 5) Deep Q-learning method\n",
        "- For each environment step:\n",
        "  1. Select action with ε-greedy\n",
        "  2. Step the env, store transition in buffer\n",
        "  3. If `len(buffer) >= batch_size`:\n",
        "     - Sample a batch\n",
        "     - Compute `q_pred`, `target`\n",
        "     - Backprop: `optimizer.zero_grad(); loss.backward(); optimizer.step()`\n",
        "     - (Optional) gradient clipping (e.g., `clip_grad_norm_` at 10)\n",
        "  4. Periodically update `Q_target ← Q_online` (if using target net)\n",
        "- Track episode returns (sum of rewards) and steps-to-goal\n",
        "\n",
        "---\n",
        "\n",
        "## Evaluation\n",
        "- Run **evaluation episodes** with `epsilon = 0.0` (greedy) every N training episodes\n",
        "- Report:\n",
        "  - Average steps-to-goal (lower is better; random policy is ~200)\n",
        "  - Average return (less negative is better)\n",
        "- Plot:\n",
        "  - Training episode return\n",
        "\n",
        "---\n",
        "\n",
        "## Deliverables\n",
        "1. **Code**: In a notebook.\n",
        "2. **Plots**:\n",
        "   - Episode  vs return\n",
        "   - Final value function (State (postition and velocity) Vs Max(Q(state)))\n",
        "\n",
        "3. **Short write-up** (also in the notebook):\n",
        "   - **Performance of your DQN agent**: How quickly does it learn? Does it reach the goal consistently?\n",
        "   - **Comparison with tile coding**:\n",
        "     - Which representation learns faster?\n",
        "     - Which one is more stable?\n",
        "     - How do the function approximation choices (linear with tiles vs. neural network) affect generalization?\n",
        "     - Did the NN require more tuning (learning rate, ε schedule) compared to tile coding?\n",
        "   - **Insights**: What are the trade-offs between hand-crafted features (tiles) and learned features (neural networks)?\n",
        "\n"
      ],
      "metadata": {
        "id": "DzEu8zQt3_MJ"
      }
    },
    {
      "cell_type": "code",
      "execution_count": 1,
      "metadata": {
        "id": "DHYJhmAv355q"
      },
      "outputs": [],
      "source": [
        "import gymnasium as gym\n",
        "import torch\n",
        "import torch.nn as nn\n",
        "import torch.optim as optim\n",
        "import numpy as np\n",
        "import random\n",
        "from collections import deque\n",
        "import matplotlib.pyplot as plt\n",
        "\n",
        "# Set up environment\n",
        "env = gym.make(\"MountainCar-v0\")\n",
        "n_actions = env.action_space.n\n",
        "state_dim = env.observation_space.shape[0]\n",
        "\n",
        "# Hyperparameters\n",
        "gamma = 0.99\n",
        "alpha = 0.001\n",
        "epsilon = 1.0\n",
        "epsilon_min = 0.01\n",
        "epsilon_decay = 0.995\n",
        "num_episodes = 5000\n",
        "batch_size = 64\n",
        "replay_buffer_size = 50000\n",
        "\n",
        "device = torch.device(\"cuda\" if torch.cuda.is_available() else \"cpu\")"
      ]
    },
    {
      "cell_type": "code",
      "source": [
        "# Define Q-Network\n",
        "class QNetwork(nn.Module):\n",
        "    def __init__(self, state_dim, n_actions):\n",
        "        super(QNetwork, self).__init__()\n",
        "        self.fc1 = nn.Linear(state_dim, 64)\n",
        "        self.fc2 = nn.Linear(64, 64)\n",
        "        self.fc3 = nn.Linear(64, n_actions)\n",
        "\n",
        "    def forward(self, x):\n",
        "        x = torch.relu(self.fc1(x))\n",
        "        x = torch.relu(self.fc2(x))\n",
        "        return self.fc3(x)"
      ],
      "metadata": {
        "id": "JhoDESZd60Yu"
      },
      "execution_count": 2,
      "outputs": []
    },
    {
      "cell_type": "code",
      "source": [
        "# Initialize Q-network and optimizer\n",
        "q_net = QNetwork(state_dim, n_actions).to(device)\n",
        "optimizer = optim.Adam(q_net.parameters(), lr=alpha)\n",
        "loss_fn = nn.MSELoss()\n",
        "replay_buffer = deque(maxlen=replay_buffer_size)"
      ],
      "metadata": {
        "id": "erbbkUXL65HM"
      },
      "execution_count": 3,
      "outputs": []
    },
    {
      "cell_type": "code",
      "source": [
        "def epsilon_greedy(state, epsilon):\n",
        "  # TODO\n",
        "  \"\"\"Selects an action using epsilon-greedy policy.\"\"\"\n",
        "  if random.random() > epsilon:\n",
        "    with torch.no_grad():\n",
        "      state_tensor = torch.FloatTensor(state).unsqueeze(0).to(device)\n",
        "      q_values = q_net(state_tensor)\n",
        "      action = torch.argmax(q_values).item()\n",
        "  else:\n",
        "    action = env.action_space.sample()\n",
        "  return action"
      ],
      "metadata": {
        "id": "nk6hESNp7KMk"
      },
      "execution_count": 9,
      "outputs": []
    },
    {
      "cell_type": "code",
      "source": [
        "def train_dqn():\n",
        "    \"\"\"Train the DQN using experience replay.\"\"\"\n",
        "    if len(replay_buffer) < batch_size:\n",
        "        return\n",
        "    batch = random.sample(replay_buffer, batch_size)\n",
        "    states, actions, rewards, next_states, dones = zip(*batch)\n",
        "\n",
        "    states = torch.FloatTensor(states).to(device)\n",
        "    actions = torch.LongTensor(actions).to(device)\n",
        "    rewards = torch.FloatTensor(rewards).to(device)\n",
        "    next_states = torch.FloatTensor(next_states).to(device)\n",
        "    dones = torch.FloatTensor(dones).to(device)\n",
        "\n",
        "    q_values = q_net(states).gather(1, actions.unsqueeze(1)).squeeze(1)\n",
        "    next_q_values = q_net(next_states).max(1)[0].detach()\n",
        "    targets = rewards + gamma * next_q_values * (1 - dones)\n",
        "\n",
        "    loss = loss_fn(q_values, targets)\n",
        "    optimizer.zero_grad()\n",
        "    loss.backward()\n",
        "    optimizer.step()"
      ],
      "metadata": {
        "id": "hcX56dEL7PZd"
      },
      "execution_count": 10,
      "outputs": []
    },
    {
      "cell_type": "code",
      "source": [
        "## MAIN Loop ###\n",
        "rewards_dqn = []\n",
        "\n",
        "for episode in range(num_episodes):\n",
        "  state = env.reset()[0]\n",
        "  total_reward = 0\n",
        "  done = False\n",
        "\n",
        "  while not done:\n",
        "    action = epsilon_greedy(state, epsilon)\n",
        "    next_state, reward, done, _, _ = env.step(action)\n",
        "\n",
        "    replay_buffer.append((state, action, reward, next_state, done))\n",
        "\n",
        "    state = next_state\n",
        "    total_reward += reward\n",
        "\n",
        "    train_dqn()\n",
        "\n",
        "  rewards_dqn.append(total_reward)\n",
        "\n",
        "  # Decay epsilon\n",
        "  epsilon = max(epsilon_min, epsilon * epsilon_decay)\n",
        "\n",
        "  if (episode + 1) % 100 == 0:\n",
        "    print(f\"Episode {episode + 1}: Total Reward = {total_reward:.2f}, Epsilon = {epsilon:.2f}\")\n",
        "\n",
        "env.close()"
      ],
      "metadata": {
        "id": "kgR0ojdN7RuM",
        "colab": {
          "base_uri": "https://localhost:8080/"
        },
        "outputId": "967525f7-d699-4d79-9cae-9afd24357b7b"
      },
      "execution_count": 11,
      "outputs": [
        {
          "output_type": "stream",
          "name": "stderr",
          "text": [
            "/tmp/ipython-input-1929135722.py:8: UserWarning: Creating a tensor from a list of numpy.ndarrays is extremely slow. Please consider converting the list to a single numpy.ndarray with numpy.array() before converting to a tensor. (Triggered internally at /pytorch/torch/csrc/utils/tensor_new.cpp:253.)\n",
            "  states = torch.FloatTensor(states).to(device)\n"
          ]
        },
        {
          "output_type": "stream",
          "name": "stdout",
          "text": [
            "Episode 100: Total Reward = -215.00, Epsilon = 0.61\n",
            "Episode 200: Total Reward = -166.00, Epsilon = 0.37\n",
            "Episode 300: Total Reward = -160.00, Epsilon = 0.22\n",
            "Episode 400: Total Reward = -128.00, Epsilon = 0.13\n",
            "Episode 500: Total Reward = -161.00, Epsilon = 0.08\n",
            "Episode 600: Total Reward = -121.00, Epsilon = 0.05\n",
            "Episode 700: Total Reward = -173.00, Epsilon = 0.03\n",
            "Episode 800: Total Reward = -98.00, Epsilon = 0.02\n",
            "Episode 900: Total Reward = -97.00, Epsilon = 0.01\n",
            "Episode 1000: Total Reward = -133.00, Epsilon = 0.01\n",
            "Episode 1100: Total Reward = -111.00, Epsilon = 0.01\n",
            "Episode 1200: Total Reward = -162.00, Epsilon = 0.01\n",
            "Episode 1300: Total Reward = -168.00, Epsilon = 0.01\n",
            "Episode 1400: Total Reward = -99.00, Epsilon = 0.01\n",
            "Episode 1500: Total Reward = -98.00, Epsilon = 0.01\n",
            "Episode 1600: Total Reward = -134.00, Epsilon = 0.01\n",
            "Episode 1700: Total Reward = -110.00, Epsilon = 0.01\n",
            "Episode 1800: Total Reward = -160.00, Epsilon = 0.01\n",
            "Episode 1900: Total Reward = -144.00, Epsilon = 0.01\n",
            "Episode 2000: Total Reward = -104.00, Epsilon = 0.01\n",
            "Episode 2100: Total Reward = -105.00, Epsilon = 0.01\n",
            "Episode 2200: Total Reward = -167.00, Epsilon = 0.01\n",
            "Episode 2300: Total Reward = -131.00, Epsilon = 0.01\n",
            "Episode 2400: Total Reward = -85.00, Epsilon = 0.01\n",
            "Episode 2500: Total Reward = -90.00, Epsilon = 0.01\n",
            "Episode 2600: Total Reward = -101.00, Epsilon = 0.01\n",
            "Episode 2700: Total Reward = -113.00, Epsilon = 0.01\n",
            "Episode 2800: Total Reward = -148.00, Epsilon = 0.01\n",
            "Episode 2900: Total Reward = -176.00, Epsilon = 0.01\n",
            "Episode 3000: Total Reward = -104.00, Epsilon = 0.01\n",
            "Episode 3100: Total Reward = -161.00, Epsilon = 0.01\n",
            "Episode 3200: Total Reward = -155.00, Epsilon = 0.01\n",
            "Episode 3300: Total Reward = -177.00, Epsilon = 0.01\n",
            "Episode 3400: Total Reward = -173.00, Epsilon = 0.01\n",
            "Episode 3500: Total Reward = -127.00, Epsilon = 0.01\n",
            "Episode 3600: Total Reward = -119.00, Epsilon = 0.01\n",
            "Episode 3700: Total Reward = -148.00, Epsilon = 0.01\n",
            "Episode 3800: Total Reward = -91.00, Epsilon = 0.01\n",
            "Episode 3900: Total Reward = -138.00, Epsilon = 0.01\n",
            "Episode 4000: Total Reward = -341.00, Epsilon = 0.01\n",
            "Episode 4100: Total Reward = -111.00, Epsilon = 0.01\n",
            "Episode 4200: Total Reward = -148.00, Epsilon = 0.01\n",
            "Episode 4300: Total Reward = -126.00, Epsilon = 0.01\n",
            "Episode 4400: Total Reward = -145.00, Epsilon = 0.01\n",
            "Episode 4500: Total Reward = -159.00, Epsilon = 0.01\n",
            "Episode 4600: Total Reward = -122.00, Epsilon = 0.01\n",
            "Episode 4700: Total Reward = -86.00, Epsilon = 0.01\n",
            "Episode 4800: Total Reward = -164.00, Epsilon = 0.01\n",
            "Episode 4900: Total Reward = -171.00, Epsilon = 0.01\n",
            "Episode 5000: Total Reward = -146.00, Epsilon = 0.01\n"
          ]
        }
      ]
    },
    {
      "cell_type": "code",
      "source": [
        "import matplotlib.pyplot as plt\n",
        "\n",
        "def plot(train_dqn):\n",
        "  plt.figure(figsize=(12, 6))\n",
        "  plt.plot(rewards_dqn, label='DQN')\n",
        "  plt.xlabel('Episode')\n",
        "  plt.ylabel('Total Reward')\n",
        "  plt.title('DQN Training Performance')\n",
        "  plt.legend()\n",
        "  plt.grid(True)\n",
        "  plt.show()"
      ],
      "metadata": {
        "id": "TA7Lc_Xw5rci"
      },
      "execution_count": 13,
      "outputs": []
    },
    {
      "cell_type": "code",
      "source": [
        "plot(train_dqn)"
      ],
      "metadata": {
        "colab": {
          "base_uri": "https://localhost:8080/",
          "height": 584
        },
        "id": "r3XGOcZI5yn-",
        "outputId": "535123c9-cfd7-4f84-a734-245f15af5939"
      },
      "execution_count": 14,
      "outputs": [
        {
          "output_type": "display_data",
          "data": {
            "text/plain": [
              "<Figure size 1200x600 with 1 Axes>"
            ],
            "image/png": "[encoded data removed]"
          },
          "metadata": {}
        }
      ]
    },
    {
      "cell_type": "markdown",
      "source": [
        "# Exercise 2: Deep Q-Learning (DQN) on LunarLander-v2\n",
        "\n",
        "## Problem Description\n",
        "In this exercise, you will implement **Deep Q-Learning (DQN)** to solve the classic control problem **LunarLander-v2** in Gym.\n",
        "\n",
        "### The Task\n",
        "The agent controls a lander that starts at the top of the screen and must safely land on the landing pad between two flags.\n",
        "\n",
        "- **State space**: Continuous vector of 8 variables, including:\n",
        "  - Position (x, y)\n",
        "  - Velocity (x_dot, y_dot)\n",
        "  - Angle and angular velocity\n",
        "  - Left/right leg contact indicators\n",
        "- **Action space**: Discrete, 4 actions\n",
        "  - 0: do nothing\n",
        "  - 1: fire left orientation engine\n",
        "  - 2: fire main engine\n",
        "  - 3: fire right orientation engine\n",
        "- **Rewards**:\n",
        "  - +100 to +140 for successful landing\n",
        "  - -100 for crashing\n",
        "  - Small negative reward for firing engines (fuel cost)\n",
        "  - Episode ends when lander crashes or comes to rest\n",
        "\n",
        "The goal is to train an agent that lands successfully **most of the time**.\n",
        "\n",
        "---\n",
        "\n",
        "## Algorithm: Deep Q-Learning\n",
        "You will implement a **DQN agent** with the following components:\n",
        "\n",
        "1. **Q-Network**\n",
        "   - Neural network that approximates Q(s, a).\n",
        "   - Input: state vector (8 floats).\n",
        "   - Output: Q-values for 4 actions.\n",
        "   - Suggested architecture: 2 hidden layers with 128 neurons each, ReLU activation.\n",
        "\n",
        "2. **Target Network**\n",
        "   - A copy of the Q-network that is updated less frequently (e.g., every 1000 steps).\n",
        "   - Used for stable target computation.\n",
        "\n",
        "3. **Replay Buffer**\n",
        "   - Stores transitions `(s, a, r, s_next, done)`.\n",
        "   - Sample random mini-batches to break correlation between consecutive samples.\n",
        "\n",
        "4. **ε-Greedy Policy**\n",
        "   - With probability ε, take a random action.\n",
        "   - Otherwise, take `argmax_a Q(s, a)`.\n",
        "   - Decay ε over time (e.g., from 1.0 → 0.05).\n",
        "\n",
        "5. **Q-Learning Method**\n",
        "   \n",
        "\n",
        "\n",
        "**Final note:**\n",
        "   No code base is necessary. At this point, you must know how to implement evertything.\n",
        "   For reference, but not recommended ([Here](https://colab.research.google.com/drive/1Gl0kuln79A__hgf2a-_-mwoGISXQDK_X?authuser=1#scrollTo=8Sd0q9DG8Rt8&line=56&uniqifier=1) is a solution)\n",
        "\n",
        "---\n",
        "## Deliverables\n",
        "1. **Code**:\n",
        "- Q-network (PyTorch).\n",
        "- Training loop with ε-greedy policy, target network, and Adam optimizer.\n",
        "\n",
        "2. **Plots**:\n",
        "- Episode returns vs training episodes.\n",
        "- Evaluation performance with a greedy policy (ε = 0).\n",
        "\n",
        "3. **Short Write-up (≤1 page)**:\n",
        "- Did your agent learn to land consistently?  \n",
        "- How many episodes did it take before you saw improvement?  \n",
        "- What effect did replay buffer size, target update frequency, and learning rate have on stability?  \n",
        "- Compare results across different runs (does it sometimes fail to converge?).\n",
        "\n",
        "Compare this task with the **MountainCar-v0** problem you solved earlier:\n",
        "- What is **extra** or more challenging in LunarLander?  \n",
        "- Consider state dimensionality, number of actions, reward shaping, and the difficulty of exploration.  \n",
        "- Why might DQN be necessary here, whereas simpler methods (like tile coding) could work for MountainCar?\n"
      ],
      "metadata": {
        "id": "8Sd0q9DG8Rt8"
      }
    },
    {
      "cell_type": "code",
      "source": [],
      "metadata": {
        "id": "J6IXyZqR7zia"
      },
      "execution_count": null,
      "outputs": []
    }
  ]
}